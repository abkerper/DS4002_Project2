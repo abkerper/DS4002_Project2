{
  "nbformat": 4,
  "nbformat_minor": 0,
  "metadata": {
    "colab": {
      "provenance": [],
      "authorship_tag": "ABX9TyPBzK/Mh8QoAFfOUncfE+ei",
      "include_colab_link": true
    },
    "kernelspec": {
      "name": "python3",
      "display_name": "Python 3"
    },
    "language_info": {
      "name": "python"
    }
  },
  "cells": [
    {
      "cell_type": "markdown",
      "metadata": {
        "id": "view-in-github",
        "colab_type": "text"
      },
      "source": [
        "<a href=\"https://colab.research.google.com/github/abkerper/DS4002_Project2/blob/main/draft.ipynb\" target=\"_parent\"><img src=\"https://colab.research.google.com/assets/colab-badge.svg\" alt=\"Open In Colab\"/></a>"
      ]
    },
    {
      "cell_type": "code",
      "execution_count": 1,
      "metadata": {
        "colab": {
          "base_uri": "https://localhost:8080/"
        },
        "id": "TRmpy7wK6TB-",
        "outputId": "c23430db-27a7-4e9d-ff29-28cfc59149d6"
      },
      "outputs": [
        {
          "output_type": "stream",
          "name": "stdout",
          "text": [
            "fatal: destination path 'DS4002_Project2' already exists and is not an empty directory.\n"
          ]
        }
      ],
      "source": [
        "! git clone https://github.com/abkerper/DS4002_Project2"
      ]
    },
    {
      "cell_type": "code",
      "source": [
        "import numpy as np\n",
        "import pandas as pd\n",
        "import datetime\n",
        "from pandas import read_csv\n",
        "from pandas import DataFrame\n",
        "import matplotlib.pyplot as plt\n",
        "import seaborn as sns\n",
        "from statsmodels.tsa.stattools import adfuller\n",
        "from statsmodels.graphics.tsaplots import plot_acf, plot_pacf\n",
        "from statsmodels.tsa.arima.model import ARIMA\n",
        "from sklearn.metrics import mean_squared_error\n",
        "from matplotlib import pyplot"
      ],
      "metadata": {
        "id": "pD3THq6IFZQI"
      },
      "execution_count": 43,
      "outputs": []
    },
    {
      "cell_type": "code",
      "source": [
        "df1 = pd.read_csv('/content/SA_0000001400.csv')\n",
        "df2 = pd.read_csv('/content/SA_0000001688.csv')"
      ],
      "metadata": {
        "id": "nCSz3fIeFbST"
      },
      "execution_count": 17,
      "outputs": []
    },
    {
      "cell_type": "code",
      "source": [
        "df = pd.concat([df1,df2])"
      ],
      "metadata": {
        "id": "yC4Cln3LIK35"
      },
      "execution_count": 20,
      "outputs": []
    },
    {
      "cell_type": "code",
      "source": [
        "display(df.columns)"
      ],
      "metadata": {
        "colab": {
          "base_uri": "https://localhost:8080/",
          "height": 178
        },
        "id": "P-nEd8HsJhAJ",
        "outputId": "b8eca4db-c3ab-4d3b-d494-f0b4fe72d431"
      },
      "execution_count": 30,
      "outputs": [
        {
          "output_type": "display_data",
          "data": {
            "text/plain": [
              "Index(['Id', 'IndicatorCode', 'SpatialDimension', 'SpatialDimensionValueCode',\n",
              "       'ParentLocationCode', 'ParentLocation', 'TimeDimension', 'TimeDim',\n",
              "       'DisaggregatingDimension1', 'DisaggregatingDimension1ValueCode',\n",
              "       'DisaggregatingDimension2', 'DisaggregatingDimension2ValueCode',\n",
              "       'DisaggregatingDimension3', 'DisaggregatingDimension3ValueCode',\n",
              "       'DataSourceDimension', 'DataSourceDimensionValueCode', 'Value',\n",
              "       'NumericValue', 'Low', 'High', 'Comments', 'Date', 'TimeDimensionValue',\n",
              "       'TimeDimensionBegin', 'TimeDimensionEnd'],\n",
              "      dtype='object')"
            ]
          },
          "metadata": {}
        }
      ]
    },
    {
      "cell_type": "code",
      "source": [
        "display(df['DisaggregatingDimension1'].unique())"
      ],
      "metadata": {
        "colab": {
          "base_uri": "https://localhost:8080/",
          "height": 35
        },
        "id": "BJBDtLWEMkVt",
        "outputId": "3b5f97e0-4513-4683-b14b-e4dadc0f930b"
      },
      "execution_count": 36,
      "outputs": [
        {
          "output_type": "display_data",
          "data": {
            "text/plain": [
              "array(['ALCOHOLTYPE', 'SEX'], dtype=object)"
            ]
          },
          "metadata": {}
        }
      ]
    },
    {
      "cell_type": "code",
      "source": [
        "df = df[df['SpatialDimension']=='COUNTRY']"
      ],
      "metadata": {
        "id": "xbV6rSiNJOD5"
      },
      "execution_count": 28,
      "outputs": []
    },
    {
      "cell_type": "code",
      "source": [
        "display(df['SpatialDimension'].unique())"
      ],
      "metadata": {
        "colab": {
          "base_uri": "https://localhost:8080/",
          "height": 35
        },
        "id": "-8AsrNJ8Fewz",
        "outputId": "c85ff6ce-f56d-4b25-f94a-6064eb0762cf"
      },
      "execution_count": 26,
      "outputs": [
        {
          "output_type": "display_data",
          "data": {
            "text/plain": [
              "array(['COUNTRY', 'UNREGION', 'GLOBAL', 'REGION'], dtype=object)"
            ]
          },
          "metadata": {}
        }
      ]
    },
    {
      "cell_type": "code",
      "source": [
        "test1 = df[df['DisaggregatingDimension1']=='ALCOHOLTYPE']"
      ],
      "metadata": {
        "id": "DmVNAVVrMg3E"
      },
      "execution_count": 37,
      "outputs": []
    },
    {
      "cell_type": "code",
      "source": [
        "test1['Value'] = pd.to_numeric(test1['Value'], errors = 'coerce')\n",
        "test1 = test1.dropna(subset = ['Value'])"
      ],
      "metadata": {
        "colab": {
          "base_uri": "https://localhost:8080/"
        },
        "id": "FrczI353Mwv-",
        "outputId": "db393d08-da84-47e7-f15e-c1628cd269cf"
      },
      "execution_count": 38,
      "outputs": [
        {
          "output_type": "stream",
          "name": "stderr",
          "text": [
            "<ipython-input-38-9feb8b8ed2f5>:1: SettingWithCopyWarning: \n",
            "A value is trying to be set on a copy of a slice from a DataFrame.\n",
            "Try using .loc[row_indexer,col_indexer] = value instead\n",
            "\n",
            "See the caveats in the documentation: https://pandas.pydata.org/pandas-docs/stable/user_guide/indexing.html#returning-a-view-versus-a-copy\n",
            "  test1['Value'] = pd.to_numeric(test1['Value'], errors = 'coerce')\n"
          ]
        }
      ]
    },
    {
      "cell_type": "code",
      "source": [
        "model = ARIMA(test1['Value'], order=(5,1,0))\n",
        "model_fit = model.fit()\n",
        "# summary of fit model\n",
        "print(model_fit.summary())\n",
        "# line plot of residuals\n",
        "residuals = DataFrame(model_fit.resid)\n",
        "residuals.plot()\n",
        "pyplot.show()\n",
        "# density plot of residuals\n",
        "residuals.plot(kind='kde')\n",
        "pyplot.show()\n",
        "# summary stats of residuals\n",
        "print(residuals.describe())"
      ],
      "metadata": {
        "colab": {
          "base_uri": "https://localhost:8080/",
          "height": 1000
        },
        "id": "2QP1xlLIMBHD",
        "outputId": "592af08b-84ae-4e39-e90d-15a2d8eb0aa3"
      },
      "execution_count": 44,
      "outputs": [
        {
          "output_type": "stream",
          "name": "stdout",
          "text": [
            "                               SARIMAX Results                                \n",
            "==============================================================================\n",
            "Dep. Variable:                  Value   No. Observations:                48924\n",
            "Model:                 ARIMA(5, 1, 0)   Log Likelihood             -126533.276\n",
            "Date:                Wed, 16 Oct 2024   AIC                         253078.551\n",
            "Time:                        16:42:45   BIC                         253131.339\n",
            "Sample:                             0   HQIC                        253095.104\n",
            "                              - 48924                                         \n",
            "Covariance Type:                  opg                                         \n",
            "==============================================================================\n",
            "                 coef    std err          z      P>|z|      [0.025      0.975]\n",
            "------------------------------------------------------------------------------\n",
            "ar.L1         -0.8409      0.004   -198.499      0.000      -0.849      -0.833\n",
            "ar.L2         -0.6801      0.005   -126.500      0.000      -0.691      -0.670\n",
            "ar.L3         -0.5055      0.006    -88.661      0.000      -0.517      -0.494\n",
            "ar.L4         -0.3339      0.005    -62.566      0.000      -0.344      -0.323\n",
            "ar.L5         -0.1660      0.004    -39.771      0.000      -0.174      -0.158\n",
            "sigma2        10.3284      0.036    285.539      0.000      10.257      10.399\n",
            "===================================================================================\n",
            "Ljung-Box (L1) (Q):                  27.37   Jarque-Bera (JB):             70592.46\n",
            "Prob(Q):                              0.00   Prob(JB):                         0.00\n",
            "Heteroskedasticity (H):               0.96   Skew:                             1.79\n",
            "Prob(H) (two-sided):                  0.02   Kurtosis:                         7.67\n",
            "===================================================================================\n",
            "\n",
            "Warnings:\n",
            "[1] Covariance matrix calculated using the outer product of gradients (complex-step).\n"
          ]
        },
        {
          "output_type": "display_data",
          "data": {
            "text/plain": [
              "<Figure size 640x480 with 1 Axes>"
            ],
            "image/png": "[encoded data removed]"
          },
          "metadata": {}
        },
        {
          "output_type": "display_data",
          "data": {
            "text/plain": [
              "<Figure size 640x480 with 1 Axes>"
            ],
            "image/png": "[encoded data removed]"
          },
          "metadata": {}
        },
        {
          "output_type": "stream",
          "name": "stdout",
          "text": [
            "                  0\n",
            "count  48924.000000\n",
            "mean       0.000122\n",
            "std        3.213719\n",
            "min       -9.020494\n",
            "25%       -1.890736\n",
            "50%       -0.760421\n",
            "75%        0.969676\n",
            "max       24.508678\n"
          ]
        }
      ]
    },
    {
      "cell_type": "code",
      "source": [
        "https://machinelearningmastery.com/arima-for-time-series-forecasting-with-python/"
      ],
      "metadata": {
        "id": "FS55T5PSMUfg"
      },
      "execution_count": null,
      "outputs": []
    }
  ]
}